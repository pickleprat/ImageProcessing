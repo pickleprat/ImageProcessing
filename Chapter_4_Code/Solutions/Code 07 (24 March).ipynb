{
  "nbformat": 4,
  "nbformat_minor": 0,
  "metadata": {
    "colab": {
      "provenance": []
    },
    "kernelspec": {
      "name": "python3",
      "display_name": "Python 3"
    },
    "language_info": {
      "name": "python"
    }
  },
  "cells": [
    {
      "cell_type": "code",
      "execution_count": null,
      "metadata": {
        "id": "SRyGzvsct23T"
      },
      "outputs": [],
      "source": [
        "from skimage.io import imread\n",
        "from matplotlib.pyplot import imshow, plot, show"
      ]
    },
    {
      "cell_type": "code",
      "source": [
        "I = imread('figure8.tif', as_gray=True)\n",
        "imshow(I, cmap='gray')\n",
        "show()"
      ],
      "metadata": {
        "colab": {
          "base_uri": "https://localhost:8080/",
          "height": 269
        },
        "id": "vx9G7P53vZNq",
        "outputId": "8a6e6bb0-539a-4e17-9d05-05494bf24e56"
      },
      "execution_count": null,
      "outputs": [
        {
          "output_type": "display_data",
          "data": {
            "text/plain": [
              "<Figure size 432x288 with 1 Axes>"
            ],
            "image/png": "[encoded data removed]"
          },
          "metadata": {
            "needs_background": "light"
          }
        }
      ]
    },
    {
      "cell_type": "code",
      "source": [
        "I.shape"
      ],
      "metadata": {
        "colab": {
          "base_uri": "https://localhost:8080/"
        },
        "id": "qvZrcQo9viSV",
        "outputId": "065e4dc3-3f84-43ce-8eda-43044cc401d5"
      },
      "execution_count": null,
      "outputs": [
        {
          "output_type": "execute_result",
          "data": {
            "text/plain": [
              "(541, 742)"
            ]
          },
          "metadata": {},
          "execution_count": 88
        }
      ]
    },
    {
      "cell_type": "code",
      "source": [
        "row = I[300,:]\n",
        "row.shape"
      ],
      "metadata": {
        "colab": {
          "base_uri": "https://localhost:8080/"
        },
        "id": "lSK4ygIzv0C1",
        "outputId": "c003a12f-28a3-41d3-8faf-12b467129d42"
      },
      "execution_count": null,
      "outputs": [
        {
          "output_type": "execute_result",
          "data": {
            "text/plain": [
              "(742,)"
            ]
          },
          "metadata": {},
          "execution_count": 89
        }
      ]
    },
    {
      "cell_type": "code",
      "source": [
        "row"
      ],
      "metadata": {
        "colab": {
          "base_uri": "https://localhost:8080/"
        },
        "id": "IhPzEjc_v7Fl",
        "outputId": "d83a2cfe-ff64-455b-b9bd-820ea7558449"
      },
      "execution_count": null,
      "outputs": [
        {
          "output_type": "execute_result",
          "data": {
            "text/plain": [
              "array([0.49803922, 0.49803922, 0.49803922, 0.49803922, 0.49803922,\n",
              "       0.49803922, 0.49803922, 0.49803922, 0.49803922, 0.49803922,\n",
              "       0.49803922, 0.49803922, 0.49803922, 0.49803922, 0.49803922,\n",
              "       0.49803922, 0.49803922, 0.49803922, 0.49803922, 0.49803922,\n",
              "       0.49803922, 0.49803922, 0.49803922, 0.49803922, 0.49803922,\n",
              "       0.49803922, 0.49803922, 0.49803922, 0.49803922, 0.49803922,\n",
              "       0.49803922, 0.49803922, 0.49803922, 0.49803922, 0.49803922,\n",
              "       0.49803922, 0.49803922, 0.49803922, 0.49803922, 0.49803922,\n",
              "       0.49803922, 0.49803922, 0.49803922, 0.49803922, 0.49803922,\n",
              "       0.49803922, 0.49803922, 0.49803922, 0.49803922, 0.24705882,\n",
              "       0.        , 0.        , 0.        , 0.        , 0.        ,\n",
              "       0.        , 0.        , 0.        , 0.        , 0.        ,\n",
              "       0.        , 0.        , 0.        , 0.        , 0.        ,\n",
              "       0.        , 0.        , 0.        , 0.        , 0.        ,\n",
              "       0.        , 0.        , 0.        , 0.        , 0.        ,\n",
              "       0.        , 0.        , 0.        , 0.        , 0.        ,\n",
              "       0.        , 0.        , 0.        , 0.        , 0.        ,\n",
              "       0.        , 0.        , 0.        , 0.        , 0.        ,\n",
              "       0.        , 0.        , 0.        , 0.        , 0.        ,\n",
              "       0.        , 0.        , 0.        , 0.        , 0.        ,\n",
              "       0.        , 0.        , 0.        , 0.        , 0.        ,\n",
              "       0.        , 0.        , 0.        , 0.        , 0.        ,\n",
              "       0.        , 0.        , 0.        , 0.        , 0.        ,\n",
              "       0.        , 0.        , 0.        , 0.        , 0.        ,\n",
              "       0.        , 0.        , 0.        , 0.        , 0.        ,\n",
              "       0.        , 0.        , 0.        , 0.        , 0.0525    ,\n",
              "       0.2125    , 0.2125    , 0.2125    , 0.2125    , 0.2125    ,\n",
              "       0.2125    , 0.2125    , 0.2125    , 0.2125    , 0.2125    ,\n",
              "       0.2125    , 0.2125    , 0.2125    , 0.2125    , 0.2125    ,\n",
              "       0.2125    , 0.2125    , 0.2125    , 0.2125    , 0.2125    ,\n",
              "       0.2125    , 0.2125    , 0.2125    , 0.2125    , 0.2125    ,\n",
              "       0.2125    , 0.2125    , 0.2125    , 0.2125    , 0.2125    ,\n",
              "       0.2125    , 0.2125    , 0.2125    , 0.2125    , 0.2125    ,\n",
              "       0.2125    , 0.2125    , 0.2125    , 0.2125    , 0.2125    ,\n",
              "       0.2125    , 0.2125    , 0.2125    , 0.2125    , 0.2125    ,\n",
              "       0.2125    , 0.2125    , 0.2125    , 0.2125    , 0.2125    ,\n",
              "       0.2125    , 0.2125    , 0.2125    , 0.2125    , 0.2125    ,\n",
              "       0.2125    , 0.2125    , 0.2125    , 0.2125    , 0.2125    ,\n",
              "       0.2125    , 0.2125    , 0.2125    , 0.2125    , 0.2125    ,\n",
              "       0.2125    , 0.2125    , 0.2125    , 0.2125    , 0.2125    ,\n",
              "       0.2125    , 0.2125    , 0.2125    , 0.2125    , 0.2125    ,\n",
              "       0.2125    , 0.2125    , 0.2125    , 0.2125    , 0.2125    ,\n",
              "       0.9279    , 0.9279    , 0.9279    , 0.9279    , 0.9279    ,\n",
              "       0.9279    , 0.9279    , 0.9279    , 0.9279    , 0.9279    ,\n",
              "       0.9279    , 0.9279    , 0.9279    , 0.9279    , 0.9279    ,\n",
              "       0.9279    , 0.9279    , 0.9279    , 0.9279    , 0.9279    ,\n",
              "       0.9279    , 0.9279    , 0.9279    , 0.9279    , 0.9279    ,\n",
              "       0.9279    , 0.9279    , 0.9279    , 0.9279    , 0.9279    ,\n",
              "       0.9279    , 0.9279    , 0.9279    , 0.9279    , 0.9279    ,\n",
              "       0.9279    , 0.9279    , 0.9279    , 0.9279    , 0.9279    ,\n",
              "       0.9279    , 0.9279    , 0.9279    , 0.9279    , 0.9279    ,\n",
              "       0.9279    , 0.9279    , 0.9279    , 0.9279    , 0.9279    ,\n",
              "       0.9279    , 0.9279    , 0.9279    , 0.9279    , 0.9279    ,\n",
              "       0.9279    , 0.9279    , 0.9279    , 0.9279    , 0.9279    ,\n",
              "       0.9279    , 0.9279    , 0.9279    , 0.9279    , 0.9279    ,\n",
              "       0.9279    , 0.9279    , 0.9279    , 0.9279    , 0.9279    ,\n",
              "       0.9279    , 0.9279    , 0.9279    , 0.9279    , 0.9279    ,\n",
              "       0.9279    , 0.9279    , 0.9279    , 0.9279    , 0.9279    ,\n",
              "       0.7154    , 0.7154    , 0.7154    , 0.7154    , 0.7154    ,\n",
              "       0.7154    , 0.7154    , 0.7154    , 0.7154    , 0.7154    ,\n",
              "       0.7154    , 0.7154    , 0.7154    , 0.7154    , 0.7154    ,\n",
              "       0.7154    , 0.7154    , 0.7154    , 0.7154    , 0.7154    ,\n",
              "       0.7154    , 0.7154    , 0.7154    , 0.7154    , 0.7154    ,\n",
              "       0.7154    , 0.7154    , 0.7154    , 0.7154    , 0.7154    ,\n",
              "       0.7154    , 0.7154    , 0.7154    , 0.7154    , 0.7154    ,\n",
              "       0.7154    , 0.7154    , 0.7154    , 0.7154    , 0.7154    ,\n",
              "       0.7154    , 0.7154    , 0.7154    , 0.7154    , 0.7154    ,\n",
              "       0.7154    , 0.7154    , 0.7154    , 0.7154    , 0.7154    ,\n",
              "       0.7154    , 0.7154    , 0.7154    , 0.7154    , 0.7154    ,\n",
              "       0.7154    , 0.7154    , 0.7154    , 0.7154    , 0.7154    ,\n",
              "       0.7154    , 0.7154    , 0.7154    , 0.7154    , 0.7154    ,\n",
              "       0.7154    , 0.7154    , 0.7154    , 0.7154    , 0.7154    ,\n",
              "       0.7154    , 0.7154    , 0.7154    , 0.7154    , 0.7154    ,\n",
              "       0.7154    , 0.7154    , 0.7154    , 0.7154    , 0.7154    ,\n",
              "       0.68615098, 0.7875    , 0.7875    , 0.7875    , 0.7875    ,\n",
              "       0.7875    , 0.7875    , 0.7875    , 0.7875    , 0.7875    ,\n",
              "       0.7875    , 0.7875    , 0.7875    , 0.7875    , 0.7875    ,\n",
              "       0.7875    , 0.7875    , 0.7875    , 0.7875    , 0.7875    ,\n",
              "       0.7875    , 0.7875    , 0.7875    , 0.7875    , 0.7875    ,\n",
              "       0.7875    , 0.7875    , 0.7875    , 0.7875    , 0.7875    ,\n",
              "       0.7875    , 0.7875    , 0.7875    , 0.7875    , 0.7875    ,\n",
              "       0.7875    , 0.7875    , 0.7875    , 0.7875    , 0.7875    ,\n",
              "       0.7875    , 0.7875    , 0.7875    , 0.7875    , 0.7875    ,\n",
              "       0.7875    , 0.7875    , 0.7875    , 0.7875    , 0.7875    ,\n",
              "       0.7875    , 0.7875    , 0.7875    , 0.7875    , 0.7875    ,\n",
              "       0.7875    , 0.7875    , 0.7875    , 0.7875    , 0.7875    ,\n",
              "       0.7875    , 0.7875    , 0.7875    , 0.7875    , 0.7875    ,\n",
              "       0.7875    , 0.7875    , 0.7875    , 0.7875    , 0.7875    ,\n",
              "       0.7875    , 0.7875    , 0.7875    , 0.7875    , 0.7875    ,\n",
              "       0.7875    , 0.7875    , 0.7875    , 0.7875    , 0.7875    ,\n",
              "       0.66063569, 0.0721    , 0.0721    , 0.0721    , 0.0721    ,\n",
              "       0.0721    , 0.0721    , 0.0721    , 0.0721    , 0.0721    ,\n",
              "       0.0721    , 0.0721    , 0.0721    , 0.0721    , 0.0721    ,\n",
              "       0.0721    , 0.0721    , 0.0721    , 0.0721    , 0.0721    ,\n",
              "       0.0721    , 0.0721    , 0.0721    , 0.0721    , 0.0721    ,\n",
              "       0.0721    , 0.0721    , 0.0721    , 0.0721    , 0.0721    ,\n",
              "       0.0721    , 0.0721    , 0.0721    , 0.0721    , 0.0721    ,\n",
              "       0.0721    , 0.0721    , 0.0721    , 0.0721    , 0.0721    ,\n",
              "       0.0721    , 0.0721    , 0.0721    , 0.0721    , 0.0721    ,\n",
              "       0.0721    , 0.0721    , 0.0721    , 0.0721    , 0.0721    ,\n",
              "       0.0721    , 0.0721    , 0.0721    , 0.0721    , 0.0721    ,\n",
              "       0.0721    , 0.0721    , 0.0721    , 0.0721    , 0.0721    ,\n",
              "       0.0721    , 0.0721    , 0.0721    , 0.0721    , 0.0721    ,\n",
              "       0.0721    , 0.0721    , 0.0721    , 0.0721    , 0.0721    ,\n",
              "       0.0721    , 0.0721    , 0.0721    , 0.0721    , 0.0721    ,\n",
              "       0.0721    , 0.0721    , 0.0721    , 0.0721    , 0.0721    ,\n",
              "       0.07427255, 0.2846    , 0.2846    , 0.2846    , 0.2846    ,\n",
              "       0.2846    , 0.2846    , 0.2846    , 0.2846    , 0.2846    ,\n",
              "       0.2846    , 0.2846    , 0.2846    , 0.2846    , 0.2846    ,\n",
              "       0.2846    , 0.2846    , 0.2846    , 0.2846    , 0.2846    ,\n",
              "       0.2846    , 0.2846    , 0.2846    , 0.2846    , 0.2846    ,\n",
              "       0.2846    , 0.2846    , 0.2846    , 0.2846    , 0.2846    ,\n",
              "       0.2846    , 0.2846    , 0.2846    , 0.2846    , 0.2846    ,\n",
              "       0.2846    , 0.2846    , 0.2846    , 0.2846    , 0.2846    ,\n",
              "       0.2846    , 0.2846    , 0.2846    , 0.2846    , 0.2846    ,\n",
              "       0.2846    , 0.2846    , 0.2846    , 0.2846    , 0.2846    ,\n",
              "       0.2846    , 0.2846    , 0.2846    , 0.2846    , 0.2846    ,\n",
              "       0.2846    , 0.2846    , 0.2846    , 0.2846    , 0.2846    ,\n",
              "       0.2846    , 0.2846    , 0.2846    , 0.2846    , 0.2846    ,\n",
              "       0.2846    , 0.2846    , 0.2846    , 0.2846    , 0.2846    ,\n",
              "       0.2846    , 0.2846    , 0.2846    , 0.2846    , 0.2846    ,\n",
              "       0.2846    , 0.2846    , 0.2846    , 0.2846    , 0.2846    ,\n",
              "       0.2980549 , 1.        , 1.        , 1.        , 1.        ,\n",
              "       1.        , 1.        , 1.        , 1.        , 1.        ,\n",
              "       1.        , 1.        , 1.        , 1.        , 1.        ,\n",
              "       1.        , 1.        , 1.        , 1.        , 1.        ,\n",
              "       1.        , 1.        , 1.        , 1.        , 1.        ,\n",
              "       1.        , 1.        , 1.        , 1.        , 1.        ,\n",
              "       1.        , 1.        , 1.        , 1.        , 1.        ,\n",
              "       1.        , 1.        , 1.        , 1.        , 1.        ,\n",
              "       1.        , 1.        , 1.        , 1.        , 1.        ,\n",
              "       1.        , 1.        , 1.        , 1.        , 1.        ,\n",
              "       1.        , 1.        , 1.        , 1.        , 1.        ,\n",
              "       1.        , 1.        , 1.        , 1.        , 1.        ,\n",
              "       1.        , 1.        , 1.        , 1.        , 1.        ,\n",
              "       1.        , 1.        , 1.        , 1.        , 1.        ,\n",
              "       1.        , 1.        , 1.        , 1.        , 1.        ,\n",
              "       1.        , 1.        , 1.        , 1.        , 1.        ,\n",
              "       1.        , 1.        , 0.62352941, 0.49803922, 0.49803922,\n",
              "       0.49803922, 0.49803922, 0.49803922, 0.49803922, 0.49803922,\n",
              "       0.49803922, 0.49803922, 0.49803922, 0.49803922, 0.49803922,\n",
              "       0.49803922, 0.49803922, 0.49803922, 0.49803922, 0.49803922,\n",
              "       0.49803922, 0.49803922, 0.49803922, 0.49803922, 0.49803922,\n",
              "       0.49803922, 0.49803922, 0.49803922, 0.49803922, 0.49803922,\n",
              "       0.49803922, 0.49803922, 0.49803922, 0.49803922, 0.49803922,\n",
              "       0.49803922, 0.49803922, 0.49803922, 0.49803922, 0.49803922,\n",
              "       0.49803922, 0.49803922, 0.49803922, 0.49803922, 0.49803922,\n",
              "       0.49803922, 0.49803922, 0.49803922, 0.49803922, 0.49803922,\n",
              "       0.49803922, 0.49803922])"
            ]
          },
          "metadata": {},
          "execution_count": 90
        }
      ]
    },
    {
      "cell_type": "code",
      "source": [
        "plot(row)\n",
        "show()"
      ],
      "metadata": {
        "colab": {
          "base_uri": "https://localhost:8080/",
          "height": 265
        },
        "id": "8iecA9upv-09",
        "outputId": "7c9d47bd-b350-48d8-b136-060fbe7ab278"
      },
      "execution_count": null,
      "outputs": [
        {
          "output_type": "display_data",
          "data": {
            "text/plain": [
              "<Figure size 432x288 with 1 Axes>"
            ],
            "image/png": "[encoded data removed]"
          },
          "metadata": {
            "needs_background": "light"
          }
        }
      ]
    },
    {
      "cell_type": "code",
      "source": [
        "first_derivative = []\n",
        "\n",
        "for i in range(len(row)-1):\n",
        "    first_derivative.append(row[i+1]-row[i])\n",
        "\n",
        "print(len(first_derivative))\n",
        "\n",
        "plot(first_derivative)\n",
        "show()"
      ],
      "metadata": {
        "colab": {
          "base_uri": "https://localhost:8080/",
          "height": 283
        },
        "id": "IphL7uUxwE4F",
        "outputId": "6f9b9f01-e06a-433b-a604-1e38dcdbf0dd"
      },
      "execution_count": null,
      "outputs": [
        {
          "output_type": "stream",
          "name": "stdout",
          "text": [
            "741\n"
          ]
        },
        {
          "output_type": "display_data",
          "data": {
            "text/plain": [
              "<Figure size 432x288 with 1 Axes>"
            ],
            "image/png": "[encoded data removed]"
          },
          "metadata": {
            "needs_background": "light"
          }
        }
      ]
    },
    {
      "cell_type": "code",
      "source": [
        "second_derivative = []\n",
        "\n",
        "for i in range(len(first_derivative)-1):\n",
        "    second_derivative.append(first_derivative[i+1]-first_derivative[i])\n",
        "\n",
        "print(second_derivative)\n",
        "\n",
        "plot(second_derivative)\n",
        "show()"
      ],
      "metadata": {
        "colab": {
          "base_uri": "https://localhost:8080/",
          "height": 303
        },
        "id": "jjNq8Ft5wlTj",
        "outputId": "d048ca5a-046f-4233-d5e2-edd7fa3fa2df"
      },
      "execution_count": null,
      "outputs": [
        {
          "output_type": "stream",
          "name": "stdout",
          "text": [
            "[0.0, 0.0, 0.0, 0.0, 0.0, 0.0, 0.0, 0.0, 0.0, 0.0, 0.0, 0.0, 0.0, 0.0, 0.0, 0.0, 0.0, 0.0, 0.0, 0.0, 0.0, 0.0, 0.0, 0.0, 0.0, 0.0, 0.0, 0.0, 0.0, 0.0, 0.0, 0.0, 0.0, 0.0, 0.0, 0.0, 0.0, 0.0, 0.0, 0.0, 0.0, 0.0, 0.0, 0.0, 0.0, 0.0, 0.0, -0.25098039215686274, 0.0039215686274509665, 0.24705882352941178, 0.0, 0.0, 0.0, 0.0, 0.0, 0.0, 0.0, 0.0, 0.0, 0.0, 0.0, 0.0, 0.0, 0.0, 0.0, 0.0, 0.0, 0.0, 0.0, 0.0, 0.0, 0.0, 0.0, 0.0, 0.0, 0.0, 0.0, 0.0, 0.0, 0.0, 0.0, 0.0, 0.0, 0.0, 0.0, 0.0, 0.0, 0.0, 0.0, 0.0, 0.0, 0.0, 0.0, 0.0, 0.0, 0.0, 0.0, 0.0, 0.0, 0.0, 0.0, 0.0, 0.0, 0.0, 0.0, 0.0, 0.0, 0.0, 0.0, 0.0, 0.0, 0.0, 0.0, 0.0, 0.0, 0.0, 0.0, 0.0, 0.0, 0.0, 0.0, 0.0, 0.0, 0.0, 0.0, 0.0, 0.0, 0.0525, 0.10750000000000001, -0.16, 0.0, 0.0, 0.0, 0.0, 0.0, 0.0, 0.0, 0.0, 0.0, 0.0, 0.0, 0.0, 0.0, 0.0, 0.0, 0.0, 0.0, 0.0, 0.0, 0.0, 0.0, 0.0, 0.0, 0.0, 0.0, 0.0, 0.0, 0.0, 0.0, 0.0, 0.0, 0.0, 0.0, 0.0, 0.0, 0.0, 0.0, 0.0, 0.0, 0.0, 0.0, 0.0, 0.0, 0.0, 0.0, 0.0, 0.0, 0.0, 0.0, 0.0, 0.0, 0.0, 0.0, 0.0, 0.0, 0.0, 0.0, 0.0, 0.0, 0.0, 0.0, 0.0, 0.0, 0.0, 0.0, 0.0, 0.0, 0.0, 0.0, 0.0, 0.0, 0.0, 0.0, 0.0, 0.0, 0.0, 0.0, 0.0, 0.7154, -0.7154, 0.0, 0.0, 0.0, 0.0, 0.0, 0.0, 0.0, 0.0, 0.0, 0.0, 0.0, 0.0, 0.0, 0.0, 0.0, 0.0, 0.0, 0.0, 0.0, 0.0, 0.0, 0.0, 0.0, 0.0, 0.0, 0.0, 0.0, 0.0, 0.0, 0.0, 0.0, 0.0, 0.0, 0.0, 0.0, 0.0, 0.0, 0.0, 0.0, 0.0, 0.0, 0.0, 0.0, 0.0, 0.0, 0.0, 0.0, 0.0, 0.0, 0.0, 0.0, 0.0, 0.0, 0.0, 0.0, 0.0, 0.0, 0.0, 0.0, 0.0, 0.0, 0.0, 0.0, 0.0, 0.0, 0.0, 0.0, 0.0, 0.0, 0.0, 0.0, 0.0, 0.0, 0.0, 0.0, 0.0, 0.0, 0.0, -0.21250000000000002, 0.21250000000000002, 0.0, 0.0, 0.0, 0.0, 0.0, 0.0, 0.0, 0.0, 0.0, 0.0, 0.0, 0.0, 0.0, 0.0, 0.0, 0.0, 0.0, 0.0, 0.0, 0.0, 0.0, 0.0, 0.0, 0.0, 0.0, 0.0, 0.0, 0.0, 0.0, 0.0, 0.0, 0.0, 0.0, 0.0, 0.0, 0.0, 0.0, 0.0, 0.0, 0.0, 0.0, 0.0, 0.0, 0.0, 0.0, 0.0, 0.0, 0.0, 0.0, 0.0, 0.0, 0.0, 0.0, 0.0, 0.0, 0.0, 0.0, 0.0, 0.0, 0.0, 0.0, 0.0, 0.0, 0.0, 0.0, 0.0, 0.0, 0.0, 0.0, 0.0, 0.0, 0.0, 0.0, 0.0, 0.0, 0.0, 0.0, 0.0, -0.029249019607843207, 0.13059803921568647, -0.10134901960784326, 0.0, 0.0, 0.0, 0.0, 0.0, 0.0, 0.0, 0.0, 0.0, 0.0, 0.0, 0.0, 0.0, 0.0, 0.0, 0.0, 0.0, 0.0, 0.0, 0.0, 0.0, 0.0, 0.0, 0.0, 0.0, 0.0, 0.0, 0.0, 0.0, 0.0, 0.0, 0.0, 0.0, 0.0, 0.0, 0.0, 0.0, 0.0, 0.0, 0.0, 0.0, 0.0, 0.0, 0.0, 0.0, 0.0, 0.0, 0.0, 0.0, 0.0, 0.0, 0.0, 0.0, 0.0, 0.0, 0.0, 0.0, 0.0, 0.0, 0.0, 0.0, 0.0, 0.0, 0.0, 0.0, 0.0, 0.0, 0.0, 0.0, 0.0, 0.0, 0.0, 0.0, 0.0, 0.0, 0.0, 0.0, -0.12686431372549023, -0.4616713725490197, 0.5885356862745099, 0.0, 0.0, 0.0, 0.0, 0.0, 0.0, 0.0, 0.0, 0.0, 0.0, 0.0, 0.0, 0.0, 0.0, 0.0, 0.0, 0.0, 0.0, 0.0, 0.0, 0.0, 0.0, 0.0, 0.0, 0.0, 0.0, 0.0, 0.0, 0.0, 0.0, 0.0, 0.0, 0.0, 0.0, 0.0, 0.0, 0.0, 0.0, 0.0, 0.0, 0.0, 0.0, 0.0, 0.0, 0.0, 0.0, 0.0, 0.0, 0.0, 0.0, 0.0, 0.0, 0.0, 0.0, 0.0, 0.0, 0.0, 0.0, 0.0, 0.0, 0.0, 0.0, 0.0, 0.0, 0.0, 0.0, 0.0, 0.0, 0.0, 0.0, 0.0, 0.0, 0.0, 0.0, 0.0, 0.0, 0.0, 0.002172549019607839, 0.2081549019607843, -0.21032745098039213, 0.0, 0.0, 0.0, 0.0, 0.0, 0.0, 0.0, 0.0, 0.0, 0.0, 0.0, 0.0, 0.0, 0.0, 0.0, 0.0, 0.0, 0.0, 0.0, 0.0, 0.0, 0.0, 0.0, 0.0, 0.0, 0.0, 0.0, 0.0, 0.0, 0.0, 0.0, 0.0, 0.0, 0.0, 0.0, 0.0, 0.0, 0.0, 0.0, 0.0, 0.0, 0.0, 0.0, 0.0, 0.0, 0.0, 0.0, 0.0, 0.0, 0.0, 0.0, 0.0, 0.0, 0.0, 0.0, 0.0, 0.0, 0.0, 0.0, 0.0, 0.0, 0.0, 0.0, 0.0, 0.0, 0.0, 0.0, 0.0, 0.0, 0.0, 0.0, 0.0, 0.0, 0.0, 0.0, 0.0, 0.0, 0.01345490196078436, 0.6884901960784313, -0.7019450980392157, 0.0, 0.0, 0.0, 0.0, 0.0, 0.0, 0.0, 0.0, 0.0, 0.0, 0.0, 0.0, 0.0, 0.0, 0.0, 0.0, 0.0, 0.0, 0.0, 0.0, 0.0, 0.0, 0.0, 0.0, 0.0, 0.0, 0.0, 0.0, 0.0, 0.0, 0.0, 0.0, 0.0, 0.0, 0.0, 0.0, 0.0, 0.0, 0.0, 0.0, 0.0, 0.0, 0.0, 0.0, 0.0, 0.0, 0.0, 0.0, 0.0, 0.0, 0.0, 0.0, 0.0, 0.0, 0.0, 0.0, 0.0, 0.0, 0.0, 0.0, 0.0, 0.0, 0.0, 0.0, 0.0, 0.0, 0.0, 0.0, 0.0, 0.0, 0.0, 0.0, 0.0, 0.0, 0.0, 0.0, 0.0, 0.0, 0.0, -0.3764705882352941, 0.25098039215686274, 0.12549019607843137, 0.0, 0.0, 0.0, 0.0, 0.0, 0.0, 0.0, 0.0, 0.0, 0.0, 0.0, 0.0, 0.0, 0.0, 0.0, 0.0, 0.0, 0.0, 0.0, 0.0, 0.0, 0.0, 0.0, 0.0, 0.0, 0.0, 0.0, 0.0, 0.0, 0.0, 0.0, 0.0, 0.0, 0.0, 0.0, 0.0, 0.0, 0.0, 0.0, 0.0, 0.0, 0.0, 0.0, 0.0, 0.0, 0.0, 0.0]\n"
          ]
        },
        {
          "output_type": "display_data",
          "data": {
            "text/plain": [
              "<Figure size 432x288 with 1 Axes>"
            ],
            "image/png": "[encoded data removed]"
          },
          "metadata": {
            "needs_background": "light"
          }
        }
      ]
    },
    {
      "cell_type": "code",
      "source": [],
      "metadata": {
        "id": "Kx7amSSOx7LX"
      },
      "execution_count": null,
      "outputs": []
    }
  ]
}