{
 "cells": [
  {
   "cell_type": "code",
   "execution_count": 1,
   "metadata": {},
   "outputs": [
    {
     "data": {
      "text/plain": [
       "0.0"
      ]
     },
     "execution_count": 1,
     "metadata": {},
     "output_type": "execute_result"
    }
   ],
   "source": [
    "import pandas as pd \n",
    "import numpy as np \n",
    "\n",
    "np.linalg.det(\n",
    "    np.array([\n",
    "        [0.3679, 0.6065, 0.3679], \n",
    "        [0.6065, 1.0000, 0.6065], \n",
    "        [0.3679, 0.6065, 0.3679]\n",
    "    ])\n",
    ") "
   ]
  },
  {
   "cell_type": "code",
   "execution_count": 2,
   "metadata": {},
   "outputs": [
    {
     "data": {
      "text/plain": [
       "4.8976"
      ]
     },
     "execution_count": 2,
     "metadata": {},
     "output_type": "execute_result"
    }
   ],
   "source": [
    "kernel = np.array([\n",
    "    [0.3679, 0.6065, 0.3679], \n",
    "    [0.6065, 1.0000, 0.6065], \n",
    "    [0.3679, 0.6065, 0.3679]\n",
    "])\n",
    "\n",
    "np.sum(kernel)"
   ]
  },
  {
   "cell_type": "code",
   "execution_count": 4,
   "metadata": {},
   "outputs": [
    {
     "data": {
      "text/plain": [
       "0.409912109375"
      ]
     },
     "execution_count": 4,
     "metadata": {},
     "output_type": "execute_result"
    }
   ],
   "source": [
    "import sympy as smp \n",
    "import numpy as np \n",
    "\n",
    "#Writing the algorithm \n",
    "x = smp.symbols('x')\n",
    "expression = (5*x**2 - 4*x + 2)/(x + 10)\n",
    "f_prime = smp.diff(expression) \n",
    "a, b = -8, 20 \n",
    "learning_rate = 0.002\n",
    "N = int(np.ceil(np.log2(np.abs(b - a)/learning_rate))) \n",
    "\n",
    "for i in range(N):\n",
    "    midpoint = np.mean([a, b])\n",
    "\n",
    "    if f_prime.subs([(x, midpoint)]) == 0:\n",
    "        break \n",
    "    elif f_prime.subs([(x, midpoint)]) < 0:\n",
    "        a = midpoint \n",
    "    else: \n",
    "        b = midpoint \n",
    "\n",
    "midpoint\n"
   ]
  },
  {
   "cell_type": "code",
   "execution_count": null,
   "metadata": {},
   "outputs": [],
   "source": []
  }
 ],
 "metadata": {
  "kernelspec": {
   "display_name": "ml",
   "language": "python",
   "name": "python3"
  },
  "language_info": {
   "codemirror_mode": {
    "name": "ipython",
    "version": 3
   },
   "file_extension": ".py",
   "mimetype": "text/x-python",
   "name": "python",
   "nbconvert_exporter": "python",
   "pygments_lexer": "ipython3",
   "version": "3.10.6"
  },
  "orig_nbformat": 4
 },
 "nbformat": 4,
 "nbformat_minor": 2
}
