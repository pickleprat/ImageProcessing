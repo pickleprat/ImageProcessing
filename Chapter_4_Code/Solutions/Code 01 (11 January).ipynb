{
  "nbformat": 4,
  "nbformat_minor": 0,
  "metadata": {
    "colab": {
      "provenance": []
    },
    "kernelspec": {
      "name": "python3",
      "display_name": "Python 3"
    },
    "language_info": {
      "name": "python"
    }
  },
  "cells": [
    {
      "cell_type": "code",
      "execution_count": 1,
      "metadata": {
        "colab": {
          "base_uri": "https://localhost:8080/"
        },
        "id": "sFiTOI0k_pB2",
        "outputId": "d2a40264-6d83-4c2b-d9d8-08fbeada96c2"
      },
      "outputs": [
        {
          "output_type": "stream",
          "name": "stdout",
          "text": [
            "<class 'numpy.ndarray'>\n",
            "(50, 50, 4)\n"
          ]
        }
      ],
      "source": [
        "from skimage.io import imread\n",
        "A = imread('image_01.png')\n",
        "print(type(A))\n",
        "print(A.shape)"
      ]
    },
    {
      "cell_type": "code",
      "source": [
        "from matplotlib.pyplot import imshow\n",
        "imshow(A)"
      ],
      "metadata": {
        "colab": {
          "base_uri": "https://localhost:8080/",
          "height": 284
        },
        "id": "SEzIeUkOGArL",
        "outputId": "e70b297d-a27c-41cf-e335-2419dcb1ebb6"
      },
      "execution_count": 2,
      "outputs": [
        {
          "output_type": "execute_result",
          "data": {
            "text/plain": [
              "<matplotlib.image.AxesImage at 0x7f43c3dc8e50>"
            ]
          },
          "metadata": {},
          "execution_count": 2
        },
        {
          "output_type": "display_data",
          "data": {
            "text/plain": [
              "<Figure size 432x288 with 1 Axes>"
            ],
            "image/png": "[encoded data removed]"
          },
          "metadata": {
            "needs_background": "light"
          }
        }
      ]
    },
    {
      "cell_type": "code",
      "source": [
        "A"
      ],
      "metadata": {
        "colab": {
          "base_uri": "https://localhost:8080/"
        },
        "id": "ftIp5XaIGYgJ",
        "outputId": "60ceeaad-941e-426b-c2c4-7f6b0ae9a95d"
      },
      "execution_count": 3,
      "outputs": [
        {
          "output_type": "execute_result",
          "data": {
            "text/plain": [
              "array([[[  0,   0,   0, 255],\n",
              "        [  0,   0,   0, 255],\n",
              "        [  0,   0,   0, 255],\n",
              "        ...,\n",
              "        [  0,   0,   0, 255],\n",
              "        [  0,   0,   0, 255],\n",
              "        [  0,   0,   0, 255]],\n",
              "\n",
              "       [[  0,   0,   0, 255],\n",
              "        [  0,   0,   0, 255],\n",
              "        [  0,   0,   0, 255],\n",
              "        ...,\n",
              "        [  0,   0,   0, 255],\n",
              "        [  0,   0,   0, 255],\n",
              "        [  0,   0,   0, 255]],\n",
              "\n",
              "       [[  0,   0,   0, 255],\n",
              "        [  0,   0,   0, 255],\n",
              "        [  0,   0,   0, 255],\n",
              "        ...,\n",
              "        [  0,   0,   0, 255],\n",
              "        [  0,   0,   0, 255],\n",
              "        [  0,   0,   0, 255]],\n",
              "\n",
              "       ...,\n",
              "\n",
              "       [[  0,   0,   0, 255],\n",
              "        [  0,   0,   0, 255],\n",
              "        [  0,   0,   0, 255],\n",
              "        ...,\n",
              "        [  0,   0,   0, 255],\n",
              "        [  0,   0,   0, 255],\n",
              "        [  0,   0,   0, 255]],\n",
              "\n",
              "       [[  0,   0,   0, 255],\n",
              "        [  0,   0,   0, 255],\n",
              "        [  0,   0,   0, 255],\n",
              "        ...,\n",
              "        [  0,   0,   0, 255],\n",
              "        [  0,   0,   0, 255],\n",
              "        [  0,   0,   0, 255]],\n",
              "\n",
              "       [[  0,   0,   0, 255],\n",
              "        [  0,   0,   0, 255],\n",
              "        [  0,   0,   0, 255],\n",
              "        ...,\n",
              "        [  0,   0,   0, 255],\n",
              "        [  0,   0,   0, 255],\n",
              "        [  0,   0,   0, 255]]], dtype=uint8)"
            ]
          },
          "metadata": {},
          "execution_count": 3
        }
      ]
    },
    {
      "cell_type": "code",
      "source": [
        "A_red = A[:,:,0]\n",
        "print(A_red.shape)\n",
        "\n",
        "A_green = A[:,:,1]\n",
        "print(A_green.shape)\n",
        "\n",
        "A_blue = A[:,:,2]\n",
        "print(A_blue.shape)"
      ],
      "metadata": {
        "id": "Dk_wAepF1y_i",
        "outputId": "edf90b10-14af-4b96-872c-6dfa759255e1",
        "colab": {
          "base_uri": "https://localhost:8080/"
        }
      },
      "execution_count": 4,
      "outputs": [
        {
          "output_type": "stream",
          "name": "stdout",
          "text": [
            "(50, 50)\n",
            "(50, 50)\n",
            "(50, 50)\n"
          ]
        }
      ]
    },
    {
      "cell_type": "code",
      "source": [
        "from skimage.io import imread\n",
        "B = imread('image_01.png', as_gray=True)\n",
        "print(type(B))\n",
        "print(B.shape)"
      ],
      "metadata": {
        "colab": {
          "base_uri": "https://localhost:8080/"
        },
        "id": "eAP0el5X1MWF",
        "outputId": "d970b554-72f8-4f79-e752-efc51249d951"
      },
      "execution_count": 5,
      "outputs": [
        {
          "output_type": "stream",
          "name": "stdout",
          "text": [
            "<class 'numpy.ndarray'>\n",
            "(50, 50)\n"
          ]
        }
      ]
    },
    {
      "cell_type": "code",
      "source": [
        "from matplotlib.pyplot import imshow\n",
        "imshow(B, cmap='gray')"
      ],
      "metadata": {
        "colab": {
          "base_uri": "https://localhost:8080/",
          "height": 284
        },
        "id": "NgmDkBf51Q6t",
        "outputId": "689ac6b4-afe4-4763-bedd-91669dcf1dd8"
      },
      "execution_count": 6,
      "outputs": [
        {
          "output_type": "execute_result",
          "data": {
            "text/plain": [
              "<matplotlib.image.AxesImage at 0x7f43c3895a30>"
            ]
          },
          "metadata": {},
          "execution_count": 6
        },
        {
          "output_type": "display_data",
          "data": {
            "text/plain": [
              "<Figure size 432x288 with 1 Axes>"
            ],
            "image/png": "[encoded data removed]"
          },
          "metadata": {
            "needs_background": "light"
          }
        }
      ]
    },
    {
      "cell_type": "code",
      "source": [
        "B"
      ],
      "metadata": {
        "colab": {
          "base_uri": "https://localhost:8080/"
        },
        "id": "q0mNwM9J1TN9",
        "outputId": "c635efd4-6871-4857-c31b-027e0402b4f4"
      },
      "execution_count": 7,
      "outputs": [
        {
          "output_type": "execute_result",
          "data": {
            "text/plain": [
              "array([[0., 0., 0., ..., 0., 0., 0.],\n",
              "       [0., 0., 0., ..., 0., 0., 0.],\n",
              "       [0., 0., 0., ..., 0., 0., 0.],\n",
              "       ...,\n",
              "       [0., 0., 0., ..., 0., 0., 0.],\n",
              "       [0., 0., 0., ..., 0., 0., 0.],\n",
              "       [0., 0., 0., ..., 0., 0., 0.]])"
            ]
          },
          "metadata": {},
          "execution_count": 7
        }
      ]
    },
    {
      "cell_type": "code",
      "source": [
        "from numpy import savetxt\n",
        "savetxt('test.csv',B)"
      ],
      "metadata": {
        "id": "dnejs31pQmQr"
      },
      "execution_count": 8,
      "outputs": []
    },
    {
      "cell_type": "code",
      "source": [
        "A_red = A[:,:,0]\n",
        "print(A_red.shape)\n",
        "\n",
        "A_green = A[:,:,1]\n",
        "print(A_green.shape)\n",
        "\n",
        "A_blue = A[:,:,2]\n",
        "print(A_blue.shape)"
      ],
      "metadata": {
        "colab": {
          "base_uri": "https://localhost:8080/"
        },
        "id": "N43uZz72EH3f",
        "outputId": "cf093c49-0032-4e3b-8ee3-9f50c917c738"
      },
      "execution_count": 9,
      "outputs": [
        {
          "output_type": "stream",
          "name": "stdout",
          "text": [
            "(50, 50)\n",
            "(50, 50)\n",
            "(50, 50)\n"
          ]
        }
      ]
    },
    {
      "cell_type": "code",
      "source": [
        "from numpy import savetxt\n",
        "savetxt('red.xlsx',A_red)\n",
        "savetxt('green.xlsx',A_green)\n",
        "savetxt('blue.xlsx',A_blue)"
      ],
      "metadata": {
        "id": "Qy834xAYEjEC"
      },
      "execution_count": 10,
      "outputs": []
    }
  ]
}